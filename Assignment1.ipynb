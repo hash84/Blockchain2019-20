{
  "nbformat": 4,
  "nbformat_minor": 0,
  "metadata": {
    "colab": {
      "name": "Assignment1.ipynb",
      "version": "0.3.2",
      "provenance": [],
      "include_colab_link": true
    },
    "kernelspec": {
      "name": "python3",
      "display_name": "Python 3"
    }
  },
  "cells": [
    {
      "cell_type": "markdown",
      "metadata": {
        "id": "view-in-github",
        "colab_type": "text"
      },
      "source": [
        "<a href=\"https://colab.research.google.com/github/hash84/Blockchain2019-20/blob/master/Assignment1.ipynb\" target=\"_parent\"><img src=\"https://colab.research.google.com/assets/colab-badge.svg\" alt=\"Open In Colab\"/></a>"
      ]
    },
    {
      "cell_type": "code",
      "metadata": {
        "id": "jpk9SCtQgi8P",
        "colab_type": "code",
        "colab": {}
      },
      "source": [
        "import hashlib\n",
        "\n",
        "from datetime import datetime\n",
        "\n",
        "TARGET_DIFFICULTY = 6\n",
        "\n",
        "def dhash(s):\n",
        "    \"\"\" sha256 hash \"\"\"\n",
        "    if not isinstance(s, str):\n",
        "        s = str(s)\n",
        "    s = s.encode()\n",
        "    return hashlib.sha256(s).hexdigest()\n",
        "\n",
        "\n",
        "def is_proper_difficulty(target_difficulty, blockhash):\n",
        "    pow = 0\n",
        "    for c in blockhash:\n",
        "        if not c == \"0\":\n",
        "            break\n",
        "        else:\n",
        "            pow += 1\n",
        "    if pow < target_difficulty:\n",
        "        return False\n",
        "    return True\n",
        "\n",
        "# 51383180\n",
        "if __name__ == \"__main__\":\n",
        "\tblock =  \"Block: ['timestamp':2019:09:08, 'userid':161080001, 'nonce':\"\n",
        "\tnonce = 99907569664\n",
        "\tnb = block +str(nonce) + \"]\"\n",
        "\t\n",
        "\th = dhash(nb)\n",
        "\twhile(not(is_proper_difficulty(8, h))):\n",
        "\t\tnonce += 1 \n",
        "\t\tnb = block +str(nonce) + \"]\"\n",
        "\t\th = dhash(nb)\n",
        "\t\t# print(nonce)\n",
        "\t\t# print(len(str(nonce)))\n",
        "\n",
        "\n",
        "\tprint(nb)\n",
        "\n",
        "\n"
      ],
      "execution_count": 0,
      "outputs": []
    }
  ]
}